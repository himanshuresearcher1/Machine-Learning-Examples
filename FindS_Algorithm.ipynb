{
  "nbformat": 4,
  "nbformat_minor": 0,
  "metadata": {
    "colab": {
      "provenance": [],
      "authorship_tag": "ABX9TyMVz1CqhuoBxlGMBZjx6YSt",
      "include_colab_link": true
    },
    "kernelspec": {
      "name": "python3",
      "display_name": "Python 3"
    },
    "language_info": {
      "name": "python"
    }
  },
  "cells": [
    {
      "cell_type": "markdown",
      "metadata": {
        "id": "view-in-github",
        "colab_type": "text"
      },
      "source": [
        "<a href=\"https://colab.research.google.com/github/himanshuresearcher1/Machine-Learning-Examples/blob/master/FindS_Algorithm.ipynb\" target=\"_parent\"><img src=\"https://colab.research.google.com/assets/colab-badge.svg\" alt=\"Open In Colab\"/></a>"
      ]
    },
    {
      "cell_type": "code",
      "execution_count": null,
      "metadata": {
        "id": "Kwnn6a8c-GZo"
      },
      "outputs": [],
      "source": []
    },
    {
      "cell_type": "code",
      "source": [
        "import pandas as pd #import pandas liberary\n",
        "import numpy as np # import numpy liberary"
      ],
      "metadata": {
        "id": "P2eQGxjnKQP6"
      },
      "execution_count": 3,
      "outputs": []
    },
    {
      "cell_type": "code",
      "source": [
        "data = pd.read_csv('Enjoy_Sport.csv') #read data file"
      ],
      "metadata": {
        "id": "etKcTUk0KQV9"
      },
      "execution_count": 5,
      "outputs": []
    },
    {
      "cell_type": "code",
      "source": [
        "print(data)\n"
      ],
      "metadata": {
        "colab": {
          "base_uri": "https://localhost:8080/"
        },
        "id": "fd5NQqq4AGgT",
        "outputId": "23dcd9ca-4f4c-47ee-a954-09fd564e32cd"
      },
      "execution_count": 16,
      "outputs": [
        {
          "output_type": "stream",
          "name": "stdout",
          "text": [
            "     SKY  TEMP HUMIDITY    WIND WATER  FORCAST ENJOY SPORT\n",
            "0  sunny  warm   normal  strong   warm    same         yes\n",
            "1  sunny  warm     high  strong   warm    same         yes\n",
            "2  rainy  cold     high  strong   warm  change          no\n",
            "3  sunny  warm     high  strong   cool  change         yes\n"
          ]
        }
      ]
    },
    {
      "cell_type": "code",
      "source": [
        "concepts = np.array(data)[:,:-1] #make an array of data named as \"concept\""
      ],
      "metadata": {
        "id": "BIBxoHEDKQeV"
      },
      "execution_count": 7,
      "outputs": []
    },
    {
      "cell_type": "code",
      "source": [
        "print(concepts) # print the array named \"concept\""
      ],
      "metadata": {
        "id": "eIC9oRxnKQkS",
        "colab": {
          "base_uri": "https://localhost:8080/"
        },
        "outputId": "b48cc6b4-e127-4440-fd7f-0093854ee083"
      },
      "execution_count": 8,
      "outputs": [
        {
          "output_type": "stream",
          "name": "stdout",
          "text": [
            "[['sunny' 'warm' 'normal' 'strong' 'warm' 'same']\n",
            " ['sunny' 'warm' 'high' 'strong' 'warm' 'same']\n",
            " ['rainy' 'cold' 'high' 'strong' 'warm' 'change']\n",
            " ['sunny' 'warm' 'high' 'strong' 'cool' 'change']]\n"
          ]
        }
      ]
    },
    {
      "cell_type": "code",
      "source": [
        "target = np.array(data)[:,-1] #make an array of only last column"
      ],
      "metadata": {
        "id": "rUAeW5dHKQnr"
      },
      "execution_count": 9,
      "outputs": []
    },
    {
      "cell_type": "code",
      "source": [
        "print(target) # print the array named \"target\""
      ],
      "metadata": {
        "id": "vy8uchPaKQrt",
        "colab": {
          "base_uri": "https://localhost:8080/"
        },
        "outputId": "757e6fef-7c91-4f0a-fef6-6ad0b6393227"
      },
      "execution_count": 10,
      "outputs": [
        {
          "output_type": "stream",
          "name": "stdout",
          "text": [
            "['yes' 'yes' 'no' 'yes']\n"
          ]
        }
      ]
    },
    {
      "cell_type": "code",
      "source": [
        "def train(con, tar): # define two variable for con and tar\n",
        "    for i, val in enumerate(tar):  # for count, value in enumerate(values) function\n",
        "        if val == 'yes': # it will check for \"yes\" value in last columns in the data\n",
        "            specific_h = con[i].copy() #it will copy the value into \"specific_h\"\n",
        "            break # terminate the for loop\n",
        "\n",
        "    for i, val in enumerate(con): # for count, value in enumerate(values) function\n",
        "        if tar[i] == 'yes': # it will check for \"yes\" value in last columns in the data\n",
        "            for x in range(len(specific_h)): #range(len()) iterates a sequence count\n",
        "                if val[x] != specific_h[x]:\n",
        "                    specific_h[x] = '?'\n",
        "                else:\n",
        "                    pass\n",
        "    return specific_h"
      ],
      "metadata": {
        "id": "5J_viQGmKQvp"
      },
      "execution_count": 11,
      "outputs": []
    },
    {
      "cell_type": "code",
      "source": [
        "print(train(concepts, target)) #print the final maximal specific hypothesis"
      ],
      "metadata": {
        "id": "H0TKc1vyKQz6",
        "colab": {
          "base_uri": "https://localhost:8080/"
        },
        "outputId": "d290afd3-0f99-48fe-fc69-b3c4e8309768"
      },
      "execution_count": 12,
      "outputs": [
        {
          "output_type": "stream",
          "name": "stdout",
          "text": [
            "['sunny' 'warm' '?' 'strong' '?' '?']\n"
          ]
        }
      ]
    }
  ]
}